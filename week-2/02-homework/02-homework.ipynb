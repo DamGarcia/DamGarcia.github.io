{
  "cells": [
    {
      "cell_type": "markdown",
      "metadata": {
        "id": "umc4IJtrfTmx"
      },
      "source": [
        "# Homework: Advanced Conditional Logic"
      ]
    },
    {
      "cell_type": "markdown",
      "metadata": {
        "id": "F1tWmtfGfTmy"
      },
      "source": [
        "## **Submission Guidelines**"
      ]
    },
    {
      "cell_type": "markdown",
      "metadata": {
        "id": "sS5RYJ_DfTmy"
      },
      "source": [
        "* Focus on completing Exercises 1–4; Exercise 5 is a stretch challenge.\n",
        "* Submit your by copy and pasting each exercise into the text submission box for this assessment in brightspace\n",
        "* Clearly label each exercise and include comments to explain your logic."
      ]
    },
    {
      "cell_type": "code",
      "execution_count": null,
      "metadata": {
        "id": "96xST8U9fTm0"
      },
      "outputs": [],
      "source": []
    },
    {
      "cell_type": "markdown",
      "metadata": {
        "id": "iJCZGGK-fTm0"
      },
      "source": [
        "\n",
        "\n",
        "## Instructions"
      ]
    },
    {
      "cell_type": "markdown",
      "metadata": {
        "id": "O5qR-HjMfTm0"
      },
      "source": [
        "\n",
        "Copy this Jupyter Notebook and complete each exercise in the provided spaces.  \n",
        "\n",
        "- Clearly label each exercise and include comments explaining your logic.  \n",
        "- Focus on completing Exercises 1–4; Exercise 5 is a stretch challenge.\n",
        "- Modify the predefined variables as needed to test different cases.  \n",
        "\n",
        "**Remember to start with the English steps, write pseudocode, then write code.**"
      ]
    },
    {
      "cell_type": "markdown",
      "metadata": {
        "id": "1e-f2_F-fTm1"
      },
      "source": [
        "## **Exercise 1: Multi-Condition Decisions**"
      ]
    },
    {
      "cell_type": "markdown",
      "metadata": {
        "id": "e75GcSH6fTm1"
      },
      "source": [
        "\n",
        "A **movie rating system** follows these rules:\n",
        "   - If `age` is **less than 13**, print `\"PG movies only\"`.\n",
        "   - If `age` is **between 13 and 17**, print `\"PG-13 movies allowed\"`.\n",
        "   - Otherwise, print `\"All movies allowed\"`."
      ]
    },
    {
      "cell_type": "code",
      "execution_count": 8,
      "metadata": {
        "id": "CU8fKJHFfTm1",
        "outputId": "f11fff57-1d9e-45f8-bb19-bf5bbe0fe874",
        "colab": {
          "base_uri": "https://localhost:8080/"
        }
      },
      "outputs": [
        {
          "output_type": "stream",
          "name": "stdout",
          "text": [
            "All movies allowed\n"
          ]
        }
      ],
      "source": [
        "# Exercise 1\n",
        "age = 19  # Change this value to test\n",
        "# Your logic here\n",
        "if age < 13:\n",
        "  print(\"PG movies only\")\n",
        "if (age > 13) and (age <= 17):\n",
        "  print(\"PG-13 movies allowed\")\n",
        "else: print(\"All movies allowed\")"
      ]
    },
    {
      "cell_type": "markdown",
      "metadata": {
        "id": "n-QL1_rYfTm2"
      },
      "source": [
        "## **Exercise 2: Decision Tree for Discounts**"
      ]
    },
    {
      "cell_type": "markdown",
      "metadata": {
        "id": "f681je9EfTm2"
      },
      "source": [
        "\n",
        "A **discount system** follows these rules:\n",
        "- If `is_student` is `True`, apply a 20% discount.\n",
        "- If `age` is **65 or older**, apply a 15% discount.\n",
        "- If both conditions are met, apply the higher discount only."
      ]
    },
    {
      "cell_type": "code",
      "execution_count": 18,
      "metadata": {
        "id": "0IhKKKy_fTm3",
        "outputId": "15ed57e0-94f9-4a8e-ac0f-101f1ab7cc22",
        "colab": {
          "base_uri": "https://localhost:8080/"
        }
      },
      "outputs": [
        {
          "output_type": "stream",
          "name": "stdout",
          "text": [
            "No discount can be applied.\n"
          ]
        }
      ],
      "source": [
        "# Exercise 2\n",
        "is_student = False  # Change this value to test\n",
        "age = 60  # Change this value to test\n",
        "\n",
        "# Your logic here\n",
        "if is_student == True and age >= 65:\n",
        "  print(\"You get a 20% discount!\")\n",
        "elif is_student == True:\n",
        "  print(\"You get a 20% discount!\")\n",
        "elif age >= 65:\n",
        "  print(\"You get a 15% discount!\")\n",
        "else:\n",
        "  print(\"No discount can be applied.\")\n"
      ]
    },
    {
      "cell_type": "markdown",
      "metadata": {
        "id": "InVtIiPDfTm3"
      },
      "source": [
        "\n",
        "## **Exercise 3: Loan Approval System**"
      ]
    },
    {
      "cell_type": "markdown",
      "metadata": {
        "id": "gKSj9vYjfTm4"
      },
      "source": [
        "\n",
        "A **loan approval system** follows these rules:\n",
        "- Applicant **must be at least 18**.\n",
        "- Loan is **approved** if `income` is over **40k** OR `credit_score` is above **700**.\n",
        "- If the applicant has `has_debt = True`, then **both** conditions are required."
      ]
    },
    {
      "cell_type": "code",
      "execution_count": 29,
      "metadata": {
        "id": "l1Bpl5V_fTm4",
        "outputId": "74ef4e42-cb1b-4992-caa1-8934631207dc",
        "colab": {
          "base_uri": "https://localhost:8080/"
        }
      },
      "outputs": [
        {
          "output_type": "stream",
          "name": "stdout",
          "text": [
            "You are old enough and have enough income for a loan!\n"
          ]
        }
      ],
      "source": [
        "# Exercise 3\n",
        "age = 18  # Change this value to test\n",
        "income = 40000  # Change this value to test\n",
        "credit_score = 600  # Change this value to test\n",
        "has_debt = False  # Change this value to test\n",
        "\n",
        "# Your logic here\n",
        "if has_debt == True and age >= 18 and income >= 40000 and credit_score >= 700:\n",
        "  print(\"Your loan has been approved!\")\n",
        "elif age >= 18 and income >= 40000:\n",
        "  print(\"You are old enough and have enough income for a loan!\")\n",
        "elif age >= 18 and credit_score >= 700:\n",
        "  print(\"You are old enough and your credit score is high enough for a loan!\")\n",
        "else:\n",
        "  print(\"Your loan has been denied!\")\n",
        "\n",
        "\n",
        "\n"
      ]
    },
    {
      "cell_type": "markdown",
      "metadata": {
        "id": "2XRUAGoEfTm4"
      },
      "source": [
        "## **Exercise 4: Complex Weather Decision System**"
      ]
    },
    {
      "cell_type": "markdown",
      "metadata": {
        "id": "o0O8ttVNfTm4"
      },
      "source": [
        "\n",
        "A **weather advisory system** follows these rules:\n",
        "- If `temperature` is **below 32°F**, print `\"Freezing warning\"`.\n",
        "- If `temperature` is **between 32°F and 50°F**, print `\"Cold weather\"`.\n",
        "- If `temperature` is **above 50°F** and `humidity` is **above 70%**, print `\"Warm but humid\"`.\n",
        "- Otherwise, print `\"Mild weather\"`.\n"
      ]
    },
    {
      "cell_type": "code",
      "execution_count": 34,
      "metadata": {
        "id": "4ev1cVgyfTm4",
        "outputId": "fc87f842-f5a5-41fb-9bad-86ba6bd29620",
        "colab": {
          "base_uri": "https://localhost:8080/"
        }
      },
      "outputs": [
        {
          "output_type": "stream",
          "name": "stdout",
          "text": [
            "Mild weather\n"
          ]
        }
      ],
      "source": [
        "# Exercise 4\n",
        "temperature = 51  # Change this value to test\n",
        "humidity = 65 # Change this value to test\n",
        "# Your logic here\n",
        "if temperature < 32:\n",
        "  print(\"Freezing warning!\")\n",
        "elif temperature >= 32 and temperature < 50:\n",
        "  print(\"Cold weather!\")\n",
        "elif temperature >= 50 and humidity >= 70:\n",
        "  print(\"Warm but humid\")\n",
        "else:\n",
        "  print(\"Mild weather\")"
      ]
    },
    {
      "cell_type": "markdown",
      "metadata": {
        "id": "ZstvyYBNfTm5"
      },
      "source": [
        "## **Exercise 5: Advanced Multi-Step Bank Security System (Extra Hard)**"
      ]
    },
    {
      "cell_type": "markdown",
      "metadata": {
        "id": "5cxvc__gfTm5"
      },
      "source": [
        "\n",
        "Design a **bank security system** that follows these rules:\n",
        "- If `is_employee = True`, grant full access.\n",
        "- If `is_manager = True`, grant access to sensitive files.\n",
        "- If `is_customer = True` and `account_balance > 1000`, allow transactions.\n",
        "- If none of the conditions apply, print `\"Access Denied\"`.\n",
        "- **Extended Rule:** If `security_alert = True`, deny all access regardless of other conditions."
      ]
    },
    {
      "cell_type": "code",
      "execution_count": 45,
      "metadata": {
        "id": "rSsnSUa6fTm5",
        "outputId": "6a8a1f96-387d-4cd6-c4d6-58145bb835ec",
        "colab": {
          "base_uri": "https://localhost:8080/"
        }
      },
      "outputs": [
        {
          "output_type": "stream",
          "name": "stdout",
          "text": [
            "Access denied!\n"
          ]
        }
      ],
      "source": [
        "# Exercise 5\n",
        "is_employee = False  # Change this value to test\n",
        "is_manager = True # Change this value to test\n",
        "is_customer = True  # Change this value to test\n",
        "account_balance = 1001  # Change this value to test\n",
        "security_alert = True  # Change this value to test\n",
        "# Your logic here\n",
        "\n",
        "if security_alert == True:\n",
        "  print(\"Access denied!\")\n",
        "elif is_employee == True:\n",
        "  print(\"Full access granted!\")\n",
        "elif is_manager == True:\n",
        "  print(\"Access to sensitive files, granted!\")\n",
        "elif is_customer == True and account_balance > 1000:\n",
        "  print(\"Transactions are allowed\")\n",
        "else:\n",
        "  print(\"Access Denied!\")"
      ]
    },
    {
      "cell_type": "markdown",
      "metadata": {
        "id": "_4fBeaPzfTm5"
      },
      "source": [
        "## **Submission Guidelines**"
      ]
    },
    {
      "cell_type": "markdown",
      "metadata": {
        "id": "uCpIR6u7fTm5"
      },
      "source": [
        "\n",
        "- Submit your work as a `.py` or `.ipynb` file.\n",
        "- Clearly label each exercise and include comments.\n",
        "- Focus on completing Exercises 1–4; Exercise 5 is a stretch challenge.\n",
        "- Have fun practicing your advanced conditionals!"
      ]
    }
  ],
  "metadata": {
    "language_info": {
      "name": "python"
    },
    "colab": {
      "provenance": []
    },
    "kernelspec": {
      "name": "python3",
      "display_name": "Python 3"
    }
  },
  "nbformat": 4,
  "nbformat_minor": 0
}