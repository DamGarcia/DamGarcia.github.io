{
  "cells": [
    {
      "cell_type": "markdown",
      "metadata": {
        "id": "OjPvxr-uCOyE"
      },
      "source": [
        "# Homework: Conditional Logic and Boolean Expressions"
      ]
    },
    {
      "cell_type": "markdown",
      "metadata": {
        "id": "T7jxWvYtCOyG"
      },
      "source": [
        "## **Submission Guidelines**\n",
        "* Focus on completing Exercises 1, 2 and 3. Exercises 4 and 5 are _stretch challenges_.\n",
        "* Submit your by copy and pasting each exercise into the text submission box for this assessment in brightspace* Clearly label each exercise and include comments to explain your logic.\n",
        "\n",
        "\n",
        "## Instructions"
      ]
    },
    {
      "cell_type": "markdown",
      "metadata": {
        "id": "Ezcpl9eLCOyG"
      },
      "source": [
        "\n",
        "Copy this Jupyter Notebook and complete each exercise in the provided spaces.  \n",
        "\n",
        "- Clearly label each exercise and include comments explaining your logic.  \n",
        "- Focus on completing Exercises 1–3; Exercises 4 and 5 are a stretch challenge.\n",
        "- Modify the predefined variables as needed to test different cases.  \n",
        "\n",
        "**Remember to start with the English steps, write pseudocode, then write code.**"
      ]
    },
    {
      "cell_type": "markdown",
      "metadata": {
        "id": "J-BUE8jTCOyG"
      },
      "source": [
        "## **Exercise 1: Basic Conditional Statements**"
      ]
    },
    {
      "cell_type": "markdown",
      "metadata": {
        "id": "NL3s0v7FCOyG"
      },
      "source": [
        "\n",
        "1. **Write a Conditional Statement:** A variable `temperature` is already defined.\n",
        "2. **Use an If-Else Statement:** If the temperature is greater than 80, print `\"It's hot!\"`; otherwise, print `\"It's not too hot.\"`"
      ]
    },
    {
      "cell_type": "code",
      "execution_count": 1,
      "metadata": {
        "colab": {
          "base_uri": "https://localhost:8080/"
        },
        "id": "zlygn7xtCOyI",
        "outputId": "fe129552-6005-45f2-eab2-9ac92cfee543"
      },
      "outputs": [
        {
          "output_type": "stream",
          "name": "stdout",
          "text": [
            "It's not too hot.\n"
          ]
        }
      ],
      "source": [
        "# Exercise 1\n",
        "temperature = 75  # Change this value to test different conditions\n",
        "# Your if-else statement here\n",
        "if temperature > 80:\n",
        "    print(\"It's hot!\")\n",
        "else :\n",
        "  print(\"It's not too hot.\")\n"
      ]
    },
    {
      "cell_type": "markdown",
      "metadata": {
        "id": "FqjEI66xCOyI"
      },
      "source": [
        "\n",
        "## **Exercise 2: Logical Operators**"
      ]
    },
    {
      "cell_type": "markdown",
      "metadata": {
        "id": "jVMw_xudCOyI"
      },
      "source": [
        "\n",
        "1. **Boolean Variables:** `is_raining` and `have_umbrella` are already defined.\n",
        "2. **Use Logical Operators:** Write an `if` statement that prints `\"You will stay dry\"` only if you have an umbrella or it's not raining."
      ]
    },
    {
      "cell_type": "code",
      "execution_count": 5,
      "metadata": {
        "colab": {
          "base_uri": "https://localhost:8080/"
        },
        "id": "loTEG0a2COyI",
        "outputId": "1cd7740e-ec51-4eee-c9bf-be6e6884fcea"
      },
      "outputs": [
        {
          "output_type": "stream",
          "name": "stdout",
          "text": [
            "You will stay dry\n"
          ]
        }
      ],
      "source": [
        "# Exercise 2\n",
        "is_raining = True  # Change this to test\n",
        "have_umbrella = False  # Change this to test\n",
        "# Your conditional logic here\n",
        "if is_raining or have_umbrella:\n",
        "  print(\"You will stay dry\")"
      ]
    },
    {
      "cell_type": "markdown",
      "metadata": {
        "id": "aHq1-yoPCOyJ"
      },
      "source": [
        "## **Exercise 3: Nested Conditions**"
      ]
    },
    {
      "cell_type": "markdown",
      "metadata": {
        "id": "E4lriaOyCOyJ"
      },
      "source": [
        "\n",
        "A **store discount system** follows these rules:\n",
        "- If a customer is a member, they get a 10% discount.\n",
        "- If they spend over $100, they get an additional 5% discount.\n",
        "- If they are not a member, they get no discount.\n",
        "\n",
        "Write a program that calculates the discount using predefined values for `is_member` and `total_spent`."
      ]
    },
    {
      "cell_type": "code",
      "execution_count": 21,
      "metadata": {
        "colab": {
          "base_uri": "https://localhost:8080/"
        },
        "id": "KtR0n_HvCOyJ",
        "outputId": "b207383e-2052-4c39-a18c-5a20c4adc477"
      },
      "outputs": [
        {
          "output_type": "stream",
          "name": "stdout",
          "text": [
            "You get a 10% discount\n"
          ]
        }
      ],
      "source": [
        "is_member = True  # Change this value to test\n",
        "total_spent = 120  # Change this value to test\n",
        "# Your logic here\n",
        "if is_member == True:\n",
        "  print(\"You get a 10% discount\")\n",
        "elif total_spent > 100:\n",
        "  print(\"You get a 5% discount\")\n",
        "else:\n",
        "  print(\"You get no discount\")"
      ]
    },
    {
      "cell_type": "markdown",
      "metadata": {
        "id": "m4uXyNkRCOyK"
      },
      "source": [
        "\n",
        "## **Exercise 4: Manual Number Comparison (Extra Hard)**"
      ]
    },
    {
      "cell_type": "markdown",
      "metadata": {
        "id": "ygw4JSLGCOyK"
      },
      "source": [
        "\n",
        "Given three numbers `a, b, c`, determine and print the **largest** and **smallest** **without using built-in functions** like `max()` or `min()`.\n",
        "\n",
        "- **Hint**: You must manually compare each number using nested `if` statements."
      ]
    },
    {
      "cell_type": "code",
      "execution_count": 24,
      "metadata": {
        "colab": {
          "base_uri": "https://localhost:8080/"
        },
        "id": "maxCMXM8COyK",
        "outputId": "aeb4c592-9530-4d26-affd-8e63a7d9b228"
      },
      "outputs": [
        {
          "output_type": "stream",
          "name": "stdout",
          "text": [
            "b is the largest number\n",
            "a is the smallest number\n"
          ]
        }
      ],
      "source": [
        "# Exercise 5\n",
        "a = 10\n",
        "b = 20\n",
        "c = 15\n",
        "\n",
        "# Your logic here\n",
        "if a > b and a > c:\n",
        "  print(\"a is the largest number\")\n",
        "elif b > 1 and b > c:\n",
        "  print(\"b is the largest number\")\n",
        "else:\n",
        "  print(\"c is the largest number\")\n",
        "\n",
        "if a < b and a < c:\n",
        "  print(\"a is the smallest number\")\n",
        "elif b < c and b < c:\n",
        "  print(\"b is the smallest number\")\n",
        "else:\n",
        "  print(\"c is the smallest number\")"
      ]
    },
    {
      "cell_type": "markdown",
      "metadata": {
        "id": "hcWCHV8wCOyK"
      },
      "source": [
        "## **Exercise 5: Nested Logical Puzzle (Nearly Impossible)**"
      ]
    },
    {
      "cell_type": "markdown",
      "metadata": {
        "id": "17pU-UNBCOyK"
      },
      "source": [
        "\n",
        "You're given four integer variables: `a`, `b`, `c`, and `d`. Write a program to determine and print:\n",
        "\n",
        "1. **The second largest** number among the four variables **without using any built-in functions or sorting**.\n",
        "2. Additionally, identify if the second largest number is **even or odd** and print the result accordingly.\n",
        "\n",
        "You must solve this **only using nested conditional statements and logical operators**.\n",
        "\n",
        "**Example Output:**  \n",
        "```\n",
        "The second largest number is 42\n",
        "The second largest number is even.\n",
        "```\n",
        "\n",
        "This challenge demands careful consideration of multiple comparisons and conditions.\n"
      ]
    },
    {
      "cell_type": "code",
      "execution_count": 23,
      "metadata": {
        "id": "3DUvO3m0COyL"
      },
      "outputs": [],
      "source": [
        "# Exercise 5\n",
        "a = 25  # Change this to test\n",
        "b = 42  # Change this to test\n",
        "c = 37  # Change this to test\n",
        "d = 42  # Change this to test\n",
        "\n",
        "# Your logic here"
      ]
    },
    {
      "cell_type": "markdown",
      "metadata": {
        "id": "LsYERisdCOyL"
      },
      "source": [
        "\n",
        "\n",
        "## **Submission Guidelines**"
      ]
    },
    {
      "cell_type": "markdown",
      "metadata": {
        "id": "UH5P7H9DCOyL"
      },
      "source": [
        "\n",
        "- Submit your work as a single Python file (`.py`) or a Jupyter Notebook (`.ipynb`).\n",
        "- Clearly label each exercise and include comments to explain your logic.\n",
        "- Focus on completing Exercises 1–3; Exercises 4 and 5 are a stretch challenge.\n"
      ]
    }
  ],
  "metadata": {
    "kernelspec": {
      "display_name": "Python 3",
      "language": "python",
      "name": "python3"
    },
    "language_info": {
      "codemirror_mode": {
        "name": "ipython",
        "version": 3
      },
      "file_extension": ".py",
      "mimetype": "text/x-python",
      "name": "python",
      "nbconvert_exporter": "python",
      "pygments_lexer": "ipython3",
      "version": "3.12.2"
    },
    "colab": {
      "provenance": []
    }
  },
  "nbformat": 4,
  "nbformat_minor": 0
}