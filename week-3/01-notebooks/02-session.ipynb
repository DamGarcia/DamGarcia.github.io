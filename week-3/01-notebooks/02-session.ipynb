{
  "cells": [
    {
      "cell_type": "markdown",
      "metadata": {
        "id": "PlLCrmV8q62p"
      },
      "source": [
        "# Session 2: Introduction to While Loops\n",
        "\n",
        "Welcome to Session 2! Today we will explore the concept of looping in Python using the **while loop**. We'll see how to repeat actions while a condition is true, and how to use while loops to iterate over lists. This session builds on basic variables and lists from our previous session.\n",
        "\n",
        "## Agenda\n",
        "1. **Review and Demo** (15 minutes): A brief review of basic concepts (including lists) with live demo cells.\n",
        "2. **New Information – Introducing While Loops** (40–45 minutes): Learn the syntax of while loops and see several basic examples, including using a counter and iterating over a list.\n",
        "3. **We Do and Wrap Up** (30 minutes): A guided exercise to practice writing while loops.\n"
      ]
    },
    {
      "cell_type": "markdown",
      "metadata": {
        "id": "yAGeDvUMq62q"
      },
      "source": [
        "## Part 1: Review and Demo\n",
        "\n",
        "Before we dive into while loops, let's quickly review some basic concepts such as variables, conditionals, and lists—since a while loop depends on a condition to determine when to stop.\n",
        "\n",
        "**Review Questions:**\n",
        "- What is a variable and how do you assign a value to it?\n",
        "- How do you write an `if`/`else` statement in Python?\n",
        "- How do you create and modify a list?\n",
        "\n",
        "Below is a demo cell for variables and conditionals. **(No answers are provided so that you can fill it in live with the class.)**"
      ]
    },
    {
      "cell_type": "code",
      "execution_count": null,
      "metadata": {
        "id": "f6pLLtY_q62q"
      },
      "outputs": [],
      "source": [
        "# Demo: Simple variable assignment and if/else condition\n",
        "# Insert live demo code here"
      ]
    },
    {
      "cell_type": "markdown",
      "metadata": {
        "id": "A4m3piyEq62r"
      },
      "source": [
        "### Review Block: Working with Lists\n",
        "\n",
        "Let's review lists before we move on to while loops."
      ]
    },
    {
      "cell_type": "code",
      "execution_count": null,
      "metadata": {
        "id": "HMear26zq62r"
      },
      "outputs": [],
      "source": [
        "# Review on Lists - Creating and Accessing Lists\n",
        "# For example: Create a list of your favorite colors and print the first and last elements.\n",
        "# Insert live demo code here"
      ]
    },
    {
      "cell_type": "code",
      "execution_count": null,
      "metadata": {
        "id": "1Zr-ALavq62s"
      },
      "outputs": [],
      "source": [
        "# Review on Lists - Modifying Lists\n",
        "# For example: Append a new color to the list and remove one color, then print the updated list.\n",
        "# Insert live demo code here"
      ]
    },
    {
      "cell_type": "markdown",
      "metadata": {
        "id": "59BDKjqdq62s"
      },
      "source": [
        "Great! With these basics in mind, we can now explore while loops."
      ]
    },
    {
      "cell_type": "markdown",
      "metadata": {
        "id": "KfNlCN_uq62s"
      },
      "source": [
        "## Part 2: New Information – Introducing While Loops\n",
        "\n",
        "A **while loop** repeats a block of code as long as a specified condition is `True`. The basic structure is:\n",
        "\n",
        "```python\n",
        "while condition:\n",
        "    # code block to execute\n",
        "    # update something so that eventually the condition becomes False\n",
        "```\n",
        "\n",
        "Let's look at some examples."
      ]
    },
    {
      "cell_type": "code",
      "execution_count": 1,
      "metadata": {
        "id": "JkgZ_JpCq62t",
        "outputId": "db76d25f-34f6-4523-bba4-6d8ce1b6cc4a",
        "colab": {
          "base_uri": "https://localhost:8080/"
        }
      },
      "outputs": [
        {
          "output_type": "stream",
          "name": "stdout",
          "text": [
            "Counter is: 1\n",
            "Counter is: 2\n",
            "Counter is: 3\n",
            "Counter is: 4\n",
            "Counter is: 5\n"
          ]
        }
      ],
      "source": [
        "# Example 1: Using a while loop with a counter\n",
        "counter = 1\n",
        "while counter <= 5:\n",
        "    print(\"Counter is:\", counter)\n",
        "    counter += 1"
      ]
    },
    {
      "cell_type": "code",
      "execution_count": 2,
      "metadata": {
        "id": "wQIk2QXuq62t",
        "outputId": "aea19861-afeb-45ad-f693-e40e3bd835dd",
        "colab": {
          "base_uri": "https://localhost:8080/"
        }
      },
      "outputs": [
        {
          "output_type": "stream",
          "name": "stdout",
          "text": [
            "Attempt 1 - Checking if input is valid...\n",
            "Input is not valid yet.\n",
            "Attempt 2 - Checking if input is valid...\n",
            "Input is not valid yet.\n",
            "Attempt 3 - Checking if input is valid...\n",
            "Input is now valid!\n",
            "Successfully validated input.\n"
          ]
        }
      ],
      "source": [
        "# Example 2: Using a while loop with a boolean condition\n",
        "is_valid = False\n",
        "attempts = 0\n",
        "\n",
        "while not is_valid and attempts < 3:\n",
        "    print(\"Attempt\", attempts + 1, \"- Checking if input is valid...\")\n",
        "    # Simulate checking input\n",
        "    if attempts == 2:  # On the third attempt (index 2)\n",
        "        is_valid = True\n",
        "        print(\"Input is now valid!\")\n",
        "    else:\n",
        "        print(\"Input is not valid yet.\")\n",
        "    attempts += 1\n",
        "\n",
        "if is_valid:\n",
        "    print(\"Successfully validated input.\")\n",
        "else:\n",
        "    print(\"Failed to validate input after 3 attempts.\")"
      ]
    },
    {
      "cell_type": "code",
      "execution_count": 3,
      "metadata": {
        "id": "U4QCYgd0q62u",
        "outputId": "b163551b-7310-417d-ceb1-7dc79831ae47",
        "colab": {
          "base_uri": "https://localhost:8080/"
        }
      },
      "outputs": [
        {
          "output_type": "stream",
          "name": "stdout",
          "text": [
            "Loop ended because the condition was false from the start\n"
          ]
        }
      ],
      "source": [
        "# Example 3: A while loop with a condition that's initially false\n",
        "counter = 10\n",
        "while counter < 5:\n",
        "    print(\"This will not print\")\n",
        "    counter += 1\n",
        "print(\"Loop ended because the condition was false from the start\")"
      ]
    },
    {
      "cell_type": "code",
      "execution_count": 4,
      "metadata": {
        "id": "7WWrKxatq62u",
        "outputId": "9b4b76df-e1cb-4f62-e57b-ed3d4fc98064",
        "colab": {
          "base_uri": "https://localhost:8080/"
        }
      },
      "outputs": [
        {
          "output_type": "stream",
          "name": "stdout",
          "text": [
            "3\n",
            "2\n",
            "1\n",
            "Blastoff!\n"
          ]
        }
      ],
      "source": [
        "# Example 4: A simple countdown using a while loop\n",
        "count = 3\n",
        "while count > 0:\n",
        "    print(count)\n",
        "    count -= 1\n",
        "print(\"Blastoff!\")"
      ]
    },
    {
      "cell_type": "markdown",
      "metadata": {
        "id": "GOrmo3ldq62v"
      },
      "source": [
        "Remember: Always update the variable used in the condition (such as `counter` or `index`) to avoid creating an infinite loop."
      ]
    },
    {
      "cell_type": "markdown",
      "metadata": {
        "id": "ySOG1Nwiq62v"
      },
      "source": [
        "## Part 3: We Do and Wrap Up\n",
        "\n",
        "Now it's time to practice what we've learned about while loops. In the exercises below, you will:\n",
        "\n",
        "1. Create a list called `my_numbers` containing the numbers 1 to 5 and print it.\n",
        "2. Use a while loop to iterate over `my_numbers` and print each element.\n",
        "3. Use a while loop to calculate the sum of all numbers in `my_numbers` and print the sum.\n",
        "4. **Bonus:** Use a while loop to print the numbers 5 to 1 in descending order.\n",
        "5. **Additional Exercise:** Use a while loop to compute the average of the numbers in `my_numbers` and print it.\n",
        "6. **Additional Exercise:** Use a while loop to compute the product of all numbers in `my_numbers` and print the result.\n",
        "\n",
        "Work on the exercises by filling in the code cells below."
      ]
    },
    {
      "cell_type": "code",
      "execution_count": 5,
      "metadata": {
        "id": "C943t8s0q62v",
        "outputId": "b2309ae8-3eed-4186-b2c0-2bed12a82990",
        "colab": {
          "base_uri": "https://localhost:8080/"
        }
      },
      "outputs": [
        {
          "output_type": "stream",
          "name": "stdout",
          "text": [
            "[1, 2, 3, 4, 5]\n"
          ]
        }
      ],
      "source": [
        "# Guided Exercise - Step 1:\n",
        "# Create a list called `my_numbers` containing the numbers 1 through 5 and print it.\n",
        "# Your code here\n",
        "\n",
        "my_numbers = [1, 2, 3, 4, 5]\n",
        "\n",
        "print(my_numbers)"
      ]
    },
    {
      "cell_type": "code",
      "execution_count": 6,
      "metadata": {
        "id": "32snHgclq62v",
        "outputId": "40fef462-8784-43e8-951c-ad89a6e7b0b9",
        "colab": {
          "base_uri": "https://localhost:8080/"
        }
      },
      "outputs": [
        {
          "output_type": "stream",
          "name": "stdout",
          "text": [
            "1\n",
            "2\n",
            "3\n",
            "4\n",
            "5\n"
          ]
        }
      ],
      "source": [
        "# Guided Exercise - Step 2:\n",
        "# Use a while loop to iterate over `my_numbers` and print each element.\n",
        "# Your code here\n",
        "\n",
        "first_int = 0\n",
        "while first_int < 5:\n",
        "  print(my_numbers[first_int])\n",
        "  first_int += 1"
      ]
    },
    {
      "cell_type": "code",
      "execution_count": 9,
      "metadata": {
        "id": "VtaLso2Aq62v",
        "outputId": "936b7298-0474-47cb-afd9-4548fcbe116f",
        "colab": {
          "base_uri": "https://localhost:8080/"
        }
      },
      "outputs": [
        {
          "output_type": "stream",
          "name": "stdout",
          "text": [
            "15\n"
          ]
        }
      ],
      "source": [
        "# Guided Exercise - Step 3:\n",
        "# Use a while loop to calculate the sum of all numbers in `my_numbers` and print the sum.\n",
        "# Your code here\n",
        "\n",
        "\n",
        "first_int = 0\n",
        "sum = 0\n",
        "while first_int < 5: #len(my_numbers) is an appropriate way to go through the length of the list\n",
        "  sum = sum + my_numbers[first_int]\n",
        "  first_int += 1\n",
        "\n",
        "print(sum)"
      ]
    },
    {
      "cell_type": "code",
      "execution_count": 8,
      "metadata": {
        "id": "a1ibu5JOq62w"
      },
      "outputs": [],
      "source": [
        "# Bonus - Guided Exercise:\n",
        "# Use a while loop to print the numbers 5 to 1 in descending order.\n",
        "# Your code here"
      ]
    },
    {
      "cell_type": "code",
      "execution_count": null,
      "metadata": {
        "id": "ASLGx-RPq62w"
      },
      "outputs": [],
      "source": [
        "# Additional Exercise - Step 5:\n",
        "# Use a while loop to compute the average of the numbers in `my_numbers` and print the average.\n",
        "# Your code here"
      ]
    },
    {
      "cell_type": "code",
      "execution_count": null,
      "metadata": {
        "id": "aH2rCrJ7q62w"
      },
      "outputs": [],
      "source": [
        "# Additional Exercise - Step 6:\n",
        "# Use a while loop to compute the product of all numbers in `my_numbers` and print the product.\n",
        "# Your code here"
      ]
    },
    {
      "cell_type": "markdown",
      "metadata": {
        "id": "4GudyVLTq62w"
      },
      "source": [
        "### Wrap-Up\n",
        "\n",
        "Today, we learned how to use while loops to repeat actions as long as a condition is true. We saw examples using a counter, iterating over a list, and even cases where the loop does not run because the condition is false. We also practiced several exercises, including computing the sum, average, and product of a list of numbers. Remember to always update your loop variable to avoid infinite loops. Great work today!"
      ]
    }
  ],
  "metadata": {
    "kernelspec": {
      "display_name": "Python 3",
      "language": "python",
      "name": "python3"
    },
    "language_info": {
      "name": "python",
      "version": "3.x"
    },
    "colab": {
      "provenance": []
    }
  },
  "nbformat": 4,
  "nbformat_minor": 0
}