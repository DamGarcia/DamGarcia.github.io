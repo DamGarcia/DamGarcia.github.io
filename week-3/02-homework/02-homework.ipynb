{
  "cells": [
    {
      "cell_type": "markdown",
      "metadata": {
        "id": "rJtTn5_tV8UL"
      },
      "source": [
        "# Homework 2: Loops and While Loops\n",
        "\n",
        "## **Submission Guidelines**\n",
        "* Focus on completing Exercises 1, 2 and 3. Exercises 4 and 5 are _stretch challenges_.\n",
        "* Submit your by copy and pasting each exercise into the text submission box for this assessment in brightspace* Clearly label each exercise and include comments to explain your logic.\n",
        "\n",
        "## Instructions\n",
        "\n",
        "Complete the following exercises in a single Python file or Jupyter Notebook. Clearly label each exercise and include comments explaining your logic. Use while loops, conditionals, list indexing (referring to the first element, the second element, etc.), and arithmetic operations.\n",
        "\n",
        "Focus on completing Exercises 1–3. Exercises 4 and 5 are stretch challenges.\n",
        "\n",
        "**Remember to start with the English steps, write pseudocode, then write code.**"
      ]
    },
    {
      "cell_type": "markdown",
      "metadata": {
        "id": "2Mc8gxSMV8UM"
      },
      "source": [
        "## Exercise 1: Combined Basic While Loop and List Iteration\n",
        "\n",
        "### Part (a): Print Numbers 1 to 10\n",
        "\n",
        "Write a while loop that prints the numbers from 1 to 10 (each on a new line)."
      ]
    },
    {
      "cell_type": "code",
      "execution_count": 3,
      "metadata": {
        "id": "GuTI5UUqV8UM",
        "outputId": "44c3999a-ea4e-4e8d-87a2-8cdfafaff30c",
        "colab": {
          "base_uri": "https://localhost:8080/"
        }
      },
      "outputs": [
        {
          "output_type": "stream",
          "name": "stdout",
          "text": [
            "1\n",
            "2\n",
            "3\n",
            "4\n",
            "5\n",
            "6\n",
            "7\n",
            "8\n",
            "9\n",
            "10\n"
          ]
        }
      ],
      "source": [
        "# Exercise 1 (a): Print numbers 1 to 10 using a while loop\n",
        "# Your code here\n",
        "counter = 1\n",
        "\n",
        "while counter < 11:\n",
        "  print(counter)\n",
        "  counter += 1\n",
        "# Bonus - try as a for loop"
      ]
    },
    {
      "cell_type": "markdown",
      "metadata": {
        "id": "TunTFtq8V8UN"
      },
      "source": [
        "### Part (b): List Iteration\n",
        "\n",
        "1. Create a list with 5 elements of your choice.\n",
        "2. Use a while loop to iterate through the list and print each element."
      ]
    },
    {
      "cell_type": "code",
      "execution_count": 7,
      "metadata": {
        "id": "2HcV0sWeV8UO"
      },
      "outputs": [],
      "source": [
        "# Exercise 1 (b): Create a list with 5 elements\n",
        "# Your code here\n",
        "elements = ['water', 'earth', 'fire', 'air', 'metal']"
      ]
    },
    {
      "cell_type": "code",
      "execution_count": 8,
      "metadata": {
        "id": "sd2dyh42V8UO",
        "outputId": "242de8ed-2c14-420f-de49-ffbe79e00f47",
        "colab": {
          "base_uri": "https://localhost:8080/"
        }
      },
      "outputs": [
        {
          "output_type": "stream",
          "name": "stdout",
          "text": [
            "water\n",
            "earth\n",
            "fire\n",
            "air\n",
            "metal\n"
          ]
        }
      ],
      "source": [
        "# Exercise 1 (b): Use a while loop to iterate through the list and print each element\n",
        "# Your code here\n",
        "first_el = 0\n",
        "\n",
        "while first_el < 5:\n",
        "  print(elements[first_el])\n",
        "  first_el += 1"
      ]
    },
    {
      "cell_type": "markdown",
      "metadata": {
        "id": "lPuA-8WdV8UO"
      },
      "source": [
        "## Exercise 2: Sum and Average\n",
        "\n",
        "1. Create a list of 5 numbers.\n",
        "2. Use a while loop to compute the sum of the numbers in the list.\n",
        "3. Calculate the average (total divided by the number of elements).\n",
        "4. Print the sum and the average."
      ]
    },
    {
      "cell_type": "code",
      "execution_count": 13,
      "metadata": {
        "id": "fpa-Hfd_V8UP"
      },
      "outputs": [],
      "source": [
        "# Exercise 2, Step 1: Create a list of 5 numbers\n",
        "# Your code here\n",
        "num_list = [12, 18, 5, 25, 25]"
      ]
    },
    {
      "cell_type": "code",
      "execution_count": 16,
      "metadata": {
        "id": "fGbwI2d0V8UP",
        "outputId": "617e0019-cab8-4e9b-ed5b-ce0aea6c1f45",
        "colab": {
          "base_uri": "https://localhost:8080/"
        }
      },
      "outputs": [
        {
          "output_type": "stream",
          "name": "stdout",
          "text": [
            "85\n"
          ]
        }
      ],
      "source": [
        "# Exercise 2, Step 2: Use a while loop to compute the sum of the numbers\n",
        "# Your code here\n",
        "\n",
        "first_num = 0\n",
        "sum = 0\n",
        "while first_num < len(num_list):\n",
        "  sum = sum + num_list[first_num]\n",
        "  first_num += 1\n",
        "\n",
        "print(sum)"
      ]
    },
    {
      "cell_type": "code",
      "execution_count": 17,
      "metadata": {
        "id": "6veDTOKEV8UQ",
        "outputId": "fac0e807-3854-4389-afb2-02ca2b147dc4",
        "colab": {
          "base_uri": "https://localhost:8080/"
        }
      },
      "outputs": [
        {
          "output_type": "stream",
          "name": "stdout",
          "text": [
            "17.0\n"
          ]
        }
      ],
      "source": [
        "# Exercise 2, Step 3: Calculate the average (total divided by the number of elements)\n",
        "# Your code here\n",
        "\n",
        "first_num = 0\n",
        "sum = 0\n",
        "avg = 0\n",
        "while first_num < len(num_list):\n",
        "  sum = sum + num_list[first_num]\n",
        "  first_num += 1\n",
        "  avg = sum / len(num_list)\n",
        "\n",
        "print(avg)"
      ]
    },
    {
      "cell_type": "code",
      "execution_count": 21,
      "metadata": {
        "id": "0GEw1ZsuV8UQ",
        "outputId": "1d0c0ede-4651-4d61-86eb-6bbf98050271",
        "colab": {
          "base_uri": "https://localhost:8080/"
        }
      },
      "outputs": [
        {
          "output_type": "stream",
          "name": "stdout",
          "text": [
            "This is the sum: 85\n",
            "This is the average: 17.0\n"
          ]
        }
      ],
      "source": [
        "# Exercise 2, Step 4: Print the sum and the average\n",
        "# Your code here\n",
        "\n",
        "print(\"This is the sum: \" + str(sum))\n",
        "print(\"This is the average: \" + str(avg))"
      ]
    },
    {
      "cell_type": "markdown",
      "metadata": {
        "id": "T33Mp0VyV8UR"
      },
      "source": [
        "## Exercise 3: Fizzbuzz\n",
        "\n",
        "A list of numbers from 1 to 100 is provided below. Write a while loop that iterates through this array. For each number, do the following:\n",
        "- If the number is divisible by 15, print **fizzbuzz**.\n",
        "- If the number is divisible by 5, print **buzz**.\n",
        "- If the number is divisible by 3, print **fizz**.\n",
        "- Otherwise, print the number."
      ]
    },
    {
      "cell_type": "code",
      "execution_count": 34,
      "metadata": {
        "id": "S-0Zaa4DV8UR",
        "outputId": "fff5f1d0-87ed-4b0f-cb4f-1f4ac661a629",
        "colab": {
          "base_uri": "https://localhost:8080/"
        }
      },
      "outputs": [
        {
          "output_type": "stream",
          "name": "stdout",
          "text": [
            "1\n",
            "2\n",
            "fizz\n",
            "4\n",
            "buzz\n",
            "fizz\n",
            "7\n",
            "8\n",
            "fizz\n",
            "buzz\n",
            "11\n",
            "fizz\n",
            "13\n",
            "14\n",
            "fizzbuzz\n",
            "16\n",
            "17\n",
            "fizz\n",
            "19\n",
            "buzz\n",
            "fizz\n",
            "22\n",
            "23\n",
            "fizz\n",
            "buzz\n",
            "26\n",
            "fizz\n",
            "28\n",
            "29\n",
            "fizzbuzz\n",
            "31\n",
            "32\n",
            "fizz\n",
            "34\n",
            "buzz\n",
            "fizz\n",
            "37\n",
            "38\n",
            "fizz\n",
            "buzz\n",
            "41\n",
            "fizz\n",
            "43\n",
            "44\n",
            "fizzbuzz\n",
            "46\n",
            "47\n",
            "fizz\n",
            "49\n",
            "buzz\n",
            "fizz\n",
            "52\n",
            "53\n",
            "fizz\n",
            "buzz\n",
            "56\n",
            "fizz\n",
            "58\n",
            "59\n",
            "fizzbuzz\n",
            "61\n",
            "62\n",
            "fizz\n",
            "64\n",
            "buzz\n",
            "fizz\n",
            "67\n",
            "68\n",
            "fizz\n",
            "buzz\n",
            "71\n",
            "fizz\n",
            "73\n",
            "74\n",
            "fizzbuzz\n",
            "76\n",
            "77\n",
            "fizz\n",
            "79\n",
            "buzz\n",
            "fizz\n",
            "82\n",
            "83\n",
            "fizz\n",
            "buzz\n",
            "86\n",
            "fizz\n",
            "88\n",
            "89\n",
            "fizzbuzz\n",
            "91\n",
            "92\n",
            "fizz\n",
            "94\n",
            "buzz\n",
            "fizz\n",
            "97\n",
            "98\n",
            "fizz\n"
          ]
        }
      ],
      "source": [
        "# Exercise 3: Fizzbuzz\n",
        "numbers = [1, 2, 3, 4, 5, 6, 7, 8, 9, 10,\n",
        "           11, 12, 13, 14, 15, 16, 17, 18, 19, 20,\n",
        "           21, 22, 23, 24, 25, 26, 27, 28, 29, 30,\n",
        "           31, 32, 33, 34, 35, 36, 37, 38, 39, 40,\n",
        "           41, 42, 43, 44, 45, 46, 47, 48, 49, 50,\n",
        "           51, 52, 53, 54, 55, 56, 57, 58, 59, 60,\n",
        "           61, 62, 63, 64, 65, 66, 67, 68, 69, 70,\n",
        "           71, 72, 73, 74, 75, 76, 77, 78, 79, 80,\n",
        "           81, 82, 83, 84, 85, 86, 87, 88, 89, 90,\n",
        "           91, 92, 93, 94, 95, 96, 97, 98, 99, 100]\n",
        "\n",
        "# Your code here\n",
        "first_int = 1\n",
        "\n",
        "while first_int < len(numbers):\n",
        "\n",
        "  if first_int % 15 == 0:\n",
        "      print(\"fizzbuzz\")\n",
        "      first_int += 1\n",
        "\n",
        "  elif first_int % 5 == 0:\n",
        "      print(\"buzz\")\n",
        "      first_int += 1\n",
        "\n",
        "  elif first_int % 3 == 0:\n",
        "    print(\"fizz\")\n",
        "    first_int += 1\n",
        "\n",
        "  else:\n",
        "    print(first_int)\n",
        "    first_int += 1\n",
        "\n",
        "\n",
        "\n",
        "# Example Output:\n",
        "# 1\n",
        "# 2\n",
        "# Fizz\n",
        "# 4\n",
        "# Buzz\n",
        "# ...\n",
        "# ...\n",
        "# 14\n",
        "# FizzBuzz\n",
        "# 16\n",
        "# ...\n",
        "# etc..."
      ]
    },
    {
      "cell_type": "markdown",
      "metadata": {
        "id": "OX0DY6AAV8UR"
      },
      "source": [
        "## Exercise 4: Tax Calculation (Extra Hard)\n",
        "\n",
        "1. Create a list of 5 item prices (numbers).\n",
        "2. Set a tax rate (as a decimal, for example 0.08 for 8%).\n",
        "3. Using a while loop, iterate through the list:\n",
        "   - For each price, compute the price including tax.\n",
        "   - Accumulate the total cost including tax.\n",
        "4. Print the total cost including tax.\n",
        "5. (Optional) Calculate and print the average cost including tax."
      ]
    },
    {
      "cell_type": "code",
      "execution_count": 36,
      "metadata": {
        "id": "BUmaZ715V8US"
      },
      "outputs": [],
      "source": [
        "# Exercise 4, Step 1: Create a list of 5 item prices\n",
        "# Your code here\n",
        "item_prices = [2.99, 5.99, 12.98, 15, 20]"
      ]
    },
    {
      "cell_type": "code",
      "execution_count": 37,
      "metadata": {
        "id": "QTzJM3eEV8US"
      },
      "outputs": [],
      "source": [
        "# Exercise 4, Step 2: Set a tax rate (e.g., 0.08 for 8% tax)\n",
        "# Your code here\n",
        "tax_rate = .06"
      ]
    },
    {
      "cell_type": "code",
      "execution_count": 60,
      "metadata": {
        "id": "680-0DfKV8US",
        "outputId": "5dc7b368-ee11-41b8-ae35-b897c81c3f1f",
        "colab": {
          "base_uri": "https://localhost:8080/"
        }
      },
      "outputs": [
        {
          "output_type": "stream",
          "name": "stdout",
          "text": [
            "2.8106\n",
            "5.6306\n",
            "12.2012\n",
            "14.1\n",
            "18.8\n"
          ]
        }
      ],
      "source": [
        "# Exercise 4, Step 3: Use a while loop to compute the price including tax for each item and accumulate the total cost\n",
        "# Your code here\n",
        "price_adjust = 0\n",
        "price_tax = 0\n",
        "total_cost = 0\n",
        "\n",
        "while price_adjust < len(item_prices):\n",
        "      price_tax = item_prices[price_adjust] - (item_prices[price_adjust] * tax_rate)\n",
        "      print(price_tax)\n",
        "\n",
        "      price_adjust += 1\n",
        "      total_cost = total_cost + price_tax\n"
      ]
    },
    {
      "cell_type": "code",
      "execution_count": 61,
      "metadata": {
        "id": "GybqS2XCV8US",
        "outputId": "0bf57254-4451-446b-979d-63b23f54aa4a",
        "colab": {
          "base_uri": "https://localhost:8080/"
        }
      },
      "outputs": [
        {
          "output_type": "stream",
          "name": "stdout",
          "text": [
            "This is the total cost:  $53.5424\n"
          ]
        }
      ],
      "source": [
        "# Exercise 4, Step 4: Print the total cost including tax\n",
        "# Your code here\n",
        "print(\"This is the total cost: \" + \" $\" + str(total_cost))"
      ]
    },
    {
      "cell_type": "code",
      "execution_count": 62,
      "metadata": {
        "id": "plugMTXBV8UT",
        "outputId": "8e3e7e78-66df-4422-e3de-8cfe9f4055fd",
        "colab": {
          "base_uri": "https://localhost:8080/"
        }
      },
      "outputs": [
        {
          "output_type": "stream",
          "name": "stdout",
          "text": [
            "10.70848\n"
          ]
        }
      ],
      "source": [
        "# Exercise 4, Optional Step 5: Calculate and print the average cost including tax\n",
        "# Your code here\n",
        "avg_cost = 0\n",
        "\n",
        "avg_cost = total_cost / len(item_prices)\n",
        "print(avg_cost)"
      ]
    },
    {
      "cell_type": "markdown",
      "metadata": {
        "id": "Hdebh1vsV8UT"
      },
      "source": [
        "## Exercise 5: Sorting a List Using a While Loop (Nearly Impossible)\n",
        "\n",
        "1. Create a list of 5 numbers in random order.\n",
        "2. Implement a sort using a while loop and conditionals. Do not use any built-in sort functions.\n",
        "3. Print the sorted list in ascending order."
      ]
    },
    {
      "cell_type": "code",
      "execution_count": null,
      "metadata": {
        "id": "w0WmFuiRV8UT"
      },
      "outputs": [],
      "source": [
        "# Exercise 5, Step 1: Create a list of 5 numbers in random order\n",
        "# Your code here\n",
        "random_num = [42, 15, 77, 24, 63]"
      ]
    },
    {
      "cell_type": "code",
      "execution_count": null,
      "metadata": {
        "id": "1g__A7LyV8UT"
      },
      "outputs": [],
      "source": [
        "# Exercise 5, Step 2: Implement a sort (e.g., bubble sort) using a while loop and conditionals\n",
        "# Your code here\n"
      ]
    },
    {
      "cell_type": "code",
      "execution_count": null,
      "metadata": {
        "id": "FEKYkHTYV8UT"
      },
      "outputs": [],
      "source": [
        "# Exercise 5, Step 3: Print the sorted list\n",
        "# Your code here"
      ]
    },
    {
      "cell_type": "markdown",
      "metadata": {
        "id": "8PyH5h5oV8UT"
      },
      "source": [
        "## Submission Guidelines\n",
        "\n",
        "- Submit your work as a single Python file (`.py`) or a Jupyter Notebook (`.ipynb`).\n",
        "- Clearly label each exercise and include comments to explain your logic.\n",
        "- Focus on completing Exercises 1–3 thoroughly. Exercises 4 and 5 are stretch challenges.\n",
        "\n",
        "Good luck, and have fun practicing your loops, list operations, and conditional logic!"
      ]
    }
  ],
  "metadata": {
    "kernelspec": {
      "display_name": "Python 3",
      "language": "python",
      "name": "python3"
    },
    "language_info": {
      "name": "python",
      "version": "3.x"
    },
    "colab": {
      "provenance": []
    }
  },
  "nbformat": 4,
  "nbformat_minor": 0
}