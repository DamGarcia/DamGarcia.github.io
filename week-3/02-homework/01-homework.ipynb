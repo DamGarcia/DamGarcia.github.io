{
  "cells": [
    {
      "cell_type": "markdown",
      "metadata": {
        "id": "BXHRaLfmcJMu"
      },
      "source": [
        "# Homework: Lists and Conditional Logic\n",
        "\n",
        "## **Submission Guidelines**\n",
        "* Focus on completing Exercises 1, 2 and 3. Exercises 4 and 5 are _stretch challenges_.\n",
        "* Submit your by copy and pasting each exercise into the text submission box for this assessment in brightspace* Clearly label each exercise and include comments to explain your logic.\n",
        "\n",
        "## Instructions\n",
        "\n",
        "Complete the following exercises in a single Python file or Jupyter Notebook. Clearly label each exercise and include comments explaining your logic. Focus on completing Exercises 1–3; Exercises 4 and 5 are stretch challenges. **Do not use loops or built-in aggregate functions in Exercises 4 and 5.** Use only basic variables, list indexing (referring to the first element, second element, etc.), conditionals, and arithmetic operations.\n",
        "\n",
        "Focus on completing Exercises 1–3. Exercises 4 and 5 are stretch challenges.\n",
        "\n",
        "**Remember to start with the English steps, write pseudocode, then write code.**"
      ]
    },
    {
      "cell_type": "markdown",
      "metadata": {
        "id": "ydjJBww0cJMw"
      },
      "source": [
        "### Exercise 1: Basic List Operations\n",
        "\n",
        "1. **Create a List:** Write code to create a list with 5 elements of your choice.\n",
        "2. **Print the List:** Display the original list.\n",
        "3. **Modify the List:**\n",
        "   - Change the second element to a new value.\n",
        "   - Append a new element to the end of the list.\n",
        "   - Remove the third element from the list.\n",
        "4. **Print the Updated List:** Verify your modifications by printing the final list.\n"
      ]
    },
    {
      "cell_type": "code",
      "execution_count": 200,
      "metadata": {
        "id": "LmY66c6wcJMx"
      },
      "outputs": [],
      "source": [
        "# Exercise 1, Step 1: Create a list with 5 elements\n",
        "# Your code here\n",
        "games = ['xbox','playstation','switch']"
      ]
    },
    {
      "cell_type": "code",
      "execution_count": 14,
      "metadata": {
        "colab": {
          "base_uri": "https://localhost:8080/"
        },
        "id": "uu4Jf0zucJMx",
        "outputId": "a3173361-98e2-4100-cf69-738ec8293c11"
      },
      "outputs": [
        {
          "output_type": "stream",
          "name": "stdout",
          "text": [
            "List of Video Game consoles ['xbox', 'playstation', 'switch']\n"
          ]
        }
      ],
      "source": [
        "# Exercise 1, Step 2: Print the original list\n",
        "# Your code here\n",
        "print('List of Video Game consoles', games)"
      ]
    },
    {
      "cell_type": "code",
      "execution_count": 16,
      "metadata": {
        "colab": {
          "base_uri": "https://localhost:8080/",
          "height": 35
        },
        "id": "FeBZU0KdcJMy",
        "outputId": "1908d81a-dc85-4c74-a1ba-98c8ce30ecca"
      },
      "outputs": [
        {
          "output_type": "execute_result",
          "data": {
            "text/plain": [
              "'PC'"
            ],
            "application/vnd.google.colaboratory.intrinsic+json": {
              "type": "string"
            }
          },
          "metadata": {},
          "execution_count": 16
        }
      ],
      "source": [
        "# Exercise 1, Step 3: Modify the list\n",
        "# - Change the second element to a new value\n",
        "# - Append a new element to the end of the list\n",
        "# - Remove the third element from the list\n",
        "# Your code here\n",
        "games[1] = 'wii'\n",
        "\n",
        "games.append('PC')\n",
        "\n",
        "games.pop()\n"
      ]
    },
    {
      "cell_type": "code",
      "execution_count": 17,
      "metadata": {
        "colab": {
          "base_uri": "https://localhost:8080/"
        },
        "id": "eMsyltmVcJMy",
        "outputId": "eb24ab8d-3323-4ba4-bbf5-77a8504be0fa"
      },
      "outputs": [
        {
          "output_type": "stream",
          "name": "stdout",
          "text": [
            "List of Video Game consoles ['xbox', 'wii', 'switch']\n"
          ]
        }
      ],
      "source": [
        "# Exercise 1, Step 4: Print the updated list\n",
        "# Your code here\n",
        "print('List of Video Game consoles', games)"
      ]
    },
    {
      "cell_type": "markdown",
      "metadata": {
        "id": "LGwZ84krcJMy"
      },
      "source": [
        "### Exercise 2: Membership Check\n",
        "\n",
        "1. **Create a List:** Write code to create a list with 5 colors of your choice.\n",
        "2. **Membership Check:** Check if the color \"blue\" is in your list.\n",
        "   - If it is present, print a message confirming that the list contains \"blue\".\n",
        "   - If it is not present, print a message indicating that \"blue\" is not in the list.\n",
        "\n",
        "*Note:* You do not need to retrieve the position of the element; simply print a confirmation message."
      ]
    },
    {
      "cell_type": "code",
      "execution_count": 19,
      "metadata": {
        "id": "j4eacRI9cJMz"
      },
      "outputs": [],
      "source": [
        "# Exercise 2, Step 1: Create a list with 5 colors\n",
        "# Your code here\n",
        "colors = ['purple', 'blue', 'green', 'pink', 'white']"
      ]
    },
    {
      "cell_type": "code",
      "execution_count": 26,
      "metadata": {
        "colab": {
          "base_uri": "https://localhost:8080/"
        },
        "id": "HsZ9-Y2JcJMz",
        "outputId": "31b57486-056b-4816-9771-a4911cea2a66"
      },
      "outputs": [
        {
          "output_type": "stream",
          "name": "stdout",
          "text": [
            "\"blue\" is in the list\n"
          ]
        }
      ],
      "source": [
        "# Exercise 2, Step 2: Check for membership of 'blue'\n",
        "# Your code here\n",
        "if 'blue' in colors:\n",
        "  print('\"blue\" is in the list')\n",
        "else:\n",
        "  print('\"blue\" is NOT in the list')"
      ]
    },
    {
      "cell_type": "markdown",
      "metadata": {
        "id": "nB80d0BGcJM0"
      },
      "source": [
        "### Exercise 3: Real-World List Modification (Hard)\n",
        "\n",
        "Imagine you are managing a set of 5 numbers (for example, representing test scores). Write a program that performs the following tasks (remember: the first element is the first, the second is the second, and so on):\n",
        "\n",
        "1. **Initialize the List:** Create a list of 5 numbers.\n",
        "2. **Conditional Adjustment:** Check if the third element is less than 50.\n",
        "   - If it is, update that element to 50.\n",
        "3. **Conditional Penalty:** Calculate the sum of the first element and the last element.\n",
        "   - If this sum is greater than 100, set the last element to 0.\n",
        "4. **Swap Operation:** Swap the first element with the third element.\n",
        "5. **Print the Final List:** Display the modified list.\n"
      ]
    },
    {
      "cell_type": "code",
      "execution_count": 45,
      "metadata": {
        "colab": {
          "base_uri": "https://localhost:8080/"
        },
        "id": "k6CSZ5SLcJM1",
        "outputId": "f0778d36-b3f6-4c7e-bdfa-636d365d59fe"
      },
      "outputs": [
        {
          "output_type": "stream",
          "name": "stdout",
          "text": [
            "[3, 8, 18, 26, 13]\n"
          ]
        }
      ],
      "source": [
        "# Exercise 3, Step 1: Initialize a list of 5 numbers\n",
        "# Your code here\n",
        "numbers = [3, 8, 18, 26, 13]\n",
        "print(numbers)"
      ]
    },
    {
      "cell_type": "code",
      "execution_count": 46,
      "metadata": {
        "colab": {
          "base_uri": "https://localhost:8080/"
        },
        "id": "it2l5VvAcJM1",
        "outputId": "9ba01c0e-ebf7-427f-ac4a-199d2c407009"
      },
      "outputs": [
        {
          "output_type": "stream",
          "name": "stdout",
          "text": [
            "[3, 8, 50, 26, 13]\n"
          ]
        }
      ],
      "source": [
        "# Exercise 3, Step 2: Conditional adjustment - if the third element is less than 50, update it to 50\n",
        "# Your code here\n",
        "if numbers[2] < 50:\n",
        "  numbers[2] = 50\n",
        "  print(numbers)"
      ]
    },
    {
      "cell_type": "code",
      "execution_count": 60,
      "metadata": {
        "id": "sB3jJRRrcJM1"
      },
      "outputs": [],
      "source": [
        "# Exercise 3, Step 3: Conditional penalty - if the sum of the first and last elements is greater than 100, set the last element to 0\n",
        "# Your code here\n",
        "if numbers[0] + numbers[4] > 100:\n",
        "  numbers[4] = 0\n",
        "  print(numbers)\n"
      ]
    },
    {
      "cell_type": "code",
      "execution_count": 61,
      "metadata": {
        "id": "WVy5_jw4cJM1"
      },
      "outputs": [],
      "source": [
        "# Exercise 3, Step 4: Swap the first element with the third element\n",
        "# Your code here\n",
        "numbers[0], numbers[2] = numbers[2], numbers[0]\n",
        "\n"
      ]
    },
    {
      "cell_type": "code",
      "execution_count": 62,
      "metadata": {
        "colab": {
          "base_uri": "https://localhost:8080/"
        },
        "id": "-f9T4orzcJM1",
        "outputId": "5661f57f-a85f-4b30-fc50-d64dc263270a"
      },
      "outputs": [
        {
          "output_type": "stream",
          "name": "stdout",
          "text": [
            "[50, 8, 3, 26, 13]\n"
          ]
        }
      ],
      "source": [
        "# Exercise 3, Step 5: Print the final list\n",
        "# Your code here\n",
        "print(numbers)"
      ]
    },
    {
      "cell_type": "markdown",
      "metadata": {
        "id": "6vcSyUphcJM1"
      },
      "source": [
        "### Exercise 4: Manual Analysis Without Loops or Built-In Functions (Extra Hard)\n",
        "\n",
        "You are given a list of 10 numbers (for instance, representing grades). Without using loops or built-in functions (such as `sum()`, `len()`, etc.), complete the following tasks by manually accessing each element:\n",
        "\n",
        "1. **Create a List:** Write code to create a list with 10 numbers.\n",
        "2. **Compute the Total:** Manually add all the numbers by accessing each element individually.\n",
        "3. **Calculate the Average:** Divide the total by the number of elements in the list.\n",
        "4. **Determine the Highest Value:** Use `if` statements to compare the elements and determine the highest value.\n",
        "5. **Determine the Lowest Value:** Similarly, determine the lowest value among the elements.\n",
        "6. **Print Your Results:** Display the average, highest, and lowest values.\n"
      ]
    },
    {
      "cell_type": "code",
      "execution_count": 64,
      "metadata": {
        "colab": {
          "base_uri": "https://localhost:8080/"
        },
        "id": "QIP23s27cJM2",
        "outputId": "bd8791a9-0d32-4e76-f4a3-67d3911a4eb1"
      },
      "outputs": [
        {
          "output_type": "stream",
          "name": "stdout",
          "text": [
            "[12, 10, 36, 65, 72, 80, 96, 54, 69, 99]\n"
          ]
        }
      ],
      "source": [
        "# Exercise 4, Step 1: Create a list with 10 numbers\n",
        "# Your code here\n",
        "number_list = [12, 10, 36, 65, 72, 80, 96, 54, 69, 99]\n",
        "print(number_list)"
      ]
    },
    {
      "cell_type": "code",
      "execution_count": 69,
      "metadata": {
        "colab": {
          "base_uri": "https://localhost:8080/"
        },
        "id": "ueakKC02cJM2",
        "outputId": "d4860f34-4f2f-4cbc-d56d-af2788c541d2"
      },
      "outputs": [
        {
          "output_type": "stream",
          "name": "stdout",
          "text": [
            "593\n"
          ]
        }
      ],
      "source": [
        "# Exercise 4, Step 2: Manually compute the total of all numbers\n",
        "# Your code here\n",
        "manual_compute = number_list[0] + number_list[1] + number_list[2] + number_list[3] + number_list[4] + number_list[5] + number_list[6] + number_list[7] + number_list[8] + number_list[9]\n",
        "\n",
        "print(manual_compute)"
      ]
    },
    {
      "cell_type": "code",
      "execution_count": 70,
      "metadata": {
        "colab": {
          "base_uri": "https://localhost:8080/"
        },
        "id": "C7_zBLfNcJM2",
        "outputId": "ea30950b-c325-4e38-b3e5-791cf0ca146e"
      },
      "outputs": [
        {
          "output_type": "execute_result",
          "data": {
            "text/plain": [
              "59.3"
            ]
          },
          "metadata": {},
          "execution_count": 70
        }
      ],
      "source": [
        "# Exercise 4, Step 3: Calculate the average of the numbers\n",
        "# Your code here\n",
        "manual_compute / 10\n"
      ]
    },
    {
      "cell_type": "code",
      "execution_count": 109,
      "metadata": {
        "colab": {
          "base_uri": "https://localhost:8080/"
        },
        "id": "YWBQRMy0cJM3",
        "outputId": "58838b9d-a586-4458-eb3d-601a41b80ff8"
      },
      "outputs": [
        {
          "output_type": "stream",
          "name": "stdout",
          "text": [
            "99 is the highest value in the list\n"
          ]
        }
      ],
      "source": [
        "# Exercise 4, Step 4: Determine the highest value using if statements\n",
        "# Your code here\n",
        "\n",
        "if number_list[0] > number_list[1] and number_list[0] > number_list[2] and number_list[0] > number_list[3] and number_list[0] > number_list[4] and number_list[0] > number_list[5] and number_list[0] > number_list[6] and number_list[0] > number_list[7] and number_list[0] > number_list[8] and number_list[0] > number_list[9]:\n",
        "  highest_value = number_list[0]\n",
        "  print(str(highest_value) + \" is the highest value in the list\")\n",
        "\n",
        "elif number_list[1] > number_list[2] and number_list[1] > number_list[3] and number_list[1] > number_list[4] and number_list[1] > number_list[5] and number_list[1] > number_list[6] and number_list[1] > number_list[7] and number_list[1] > number_list[8] and number_list[1] > number_list[9]:\n",
        "  highest_value = number_list[1]\n",
        "  print(str(highest_value) + \" is the highest value in the list\")\n",
        "\n",
        "elif number_list[2] > number_list[3] and number_list[2] > number_list[4] and number_list[2] > number_list[5] and number_list[2] > number_list[6] and number_list[2] > number_list[7] and number_list[2] > number_list[8] and number_list[2] > number_list[9]:\n",
        "  highest_value = number_list[2]\n",
        "  print(str(highest_value) + \" is the highest value in the list\")\n",
        "\n",
        "elif number_list[3] > number_list[4] and number_list[3] > number_list[5] and number_list[3] > number_list[6] and number_list[3] > number_list[7] and number_list[3] > number_list[8] and number_list[3] > number_list[9]:\n",
        "  highest_value = number_list[3]\n",
        "  print(str(highest_value) + \" is the highest value in the list\")\n",
        "\n",
        "elif number_list[4] > number_list[5] and number_list[4] > number_list[6] and number_list[4] > number_list[7] and number_list[4] > number_list[8] and number_list[4] > number_list[9]:\n",
        "  highest_value = number_list[4]\n",
        "  print(str(highest_value) + \" is the highest value in the list\")\n",
        "\n",
        "elif number_list[5] > number_list[6] and number_list[5] > number_list[7] and number_list[5] > number_list[8] and number_list[5] > number_list[9]:\n",
        "  highest_value = number_list[5]\n",
        "  print(str(highest_value) + \" is the highest value in the list\")\n",
        "\n",
        "elif number_list[6] > number_list[7] and number_list[6] > number_list[8] and number_list[6] > number_list[9]:\n",
        "  highest_value = number_list[6]\n",
        "  print(str(highest_value) + \" is the highest value in the list\")\n",
        "\n",
        "elif number_list[7] > number_list[8] and number_list[7] > number_list[9]:\n",
        "  highest_value = number_list[7]\n",
        "  print(str(highest_value) + \" is the highest value in the list\")\n",
        "\n",
        "elif number_list[8] > number_list[9]:\n",
        "  highest_value = number_list[8]\n",
        "  print(str(highest_value) + \" is the highest value in the list\")\n",
        "\n",
        "else:\n",
        "  print(str(highest_value) + \" is the highest value in the list\")\n",
        "  highest_value = number_list[9]"
      ]
    },
    {
      "cell_type": "code",
      "execution_count": 112,
      "metadata": {
        "colab": {
          "base_uri": "https://localhost:8080/"
        },
        "id": "uCHJBvQrcJM3",
        "outputId": "045e37e9-e839-4494-da24-79ea013206b5"
      },
      "outputs": [
        {
          "output_type": "stream",
          "name": "stdout",
          "text": [
            "10 is the lowest value in the list\n"
          ]
        }
      ],
      "source": [
        "# Exercise 4, Step 5: Determine the lowest value using if statements\n",
        "# Your code here\n",
        "if number_list[0] < number_list[1] and number_list[0] < number_list[2] and number_list[0] < number_list[3] and number_list[0] < number_list[4] and number_list[0] < number_list[5] and number_list[0] < number_list[6] and number_list[0] < number_list[7] and number_list[0] < number_list[8] and number_list[0] < number_list[9]:\n",
        "  lowest_value = number_list[0]\n",
        "  print(str(lowest_value) + \" is the lowest value in the list\")\n",
        "\n",
        "elif number_list[1] < number_list[2] and number_list[1] < number_list[3] and number_list[1] < number_list[4] and number_list[1] < number_list[5] and number_list[1] < number_list[6] and number_list[1] < number_list[7] and number_list[1] < number_list[8] and number_list[1] < number_list[9]:\n",
        "  lowest_value = number_list[1]\n",
        "  print(str(lowest_value) + \" is the lowest value in the list\")\n",
        "\n",
        "elif number_list[2] < number_list[3] and number_list[2] < number_list[4] and number_list[2] < number_list[5] and number_list[2] < number_list[6] and number_list[2] < number_list[7] and number_list[2] < number_list[8] and number_list[2] < number_list[9]:\n",
        "  lowest_value = number_list[2]\n",
        "  rint(str(lowest_value) + \" is the lowest value in the list\")\n",
        "\n",
        "elif number_list[3] < number_list[4] and number_list[3] < number_list[5] and number_list[3] < number_list[6] and number_list[3] < number_list[7] and number_list[3] < number_list[8] and number_list[3] < number_list[9]:\n",
        "  lowest_value = number_list[3]\n",
        "  print(str(number_list[3]) + \" is the lowest value in the list\")\n",
        "\n",
        "elif number_list[4] < number_list[5] and number_list[4] < number_list[6] and number_list[4] < number_list[7] and number_list[4] < number_list[8] and number_list[4] < number_list[9]:\n",
        "  lowest_value = number_list[4]\n",
        "  print(str(lowest_value) + \" is the lowest value in the list\")\n",
        "\n",
        "elif number_list[5] < number_list[6] and number_list[5] < number_list[7] and number_list[5] < number_list[8] and number_list[5] < number_list[9]:\n",
        "  lowest_value = number_list[5]\n",
        "  print(str(lowest_value) + \" is the lowest value in the list\")\n",
        "\n",
        "elif number_list[6] < number_list[7] and number_list[6] < number_list[8] and number_list[6] < number_list[9]:\n",
        "  lowest_value = number_list[6]\n",
        "  print(str(lowest_value) + \" is the lowest value in the list\")\n",
        "\n",
        "elif number_list[7] < number_list[8] and number_list[7] < number_list[9]:\n",
        "  lowest_value = number_list[7]\n",
        "  print(str(lowest_value) + \" is the lowest value in the list\")\n",
        "\n",
        "elif number_list[8] < number_list[9]:\n",
        "  owest_value = number_list[8]\n",
        "  print(str(lowest_value) + \" is the lowest value in the list\")\n",
        "\n",
        "else:\n",
        "  lowest_value = number_list[9]\n",
        "  print(str(lowest_value) + \" is the lowest value in the list\")"
      ]
    },
    {
      "cell_type": "code",
      "execution_count": 113,
      "metadata": {
        "colab": {
          "base_uri": "https://localhost:8080/"
        },
        "id": "YykW2_i4cJM3",
        "outputId": "17b685a4-e176-4b68-981e-10ee911f7c7d"
      },
      "outputs": [
        {
          "output_type": "stream",
          "name": "stdout",
          "text": [
            "Average is 593. Highest value is 99. Lowest value is 10.\n"
          ]
        }
      ],
      "source": [
        "# Exercise 4, Step 6: Print the average, highest, and lowest values\n",
        "# Your code here\n",
        "\n",
        "print(\"Average is \" + str(manual_compute) + \".\" + \" Highest value is \" + str(highest_value) + \".\" + \" Lowest value is \" + str(lowest_value) + \".\")"
      ]
    },
    {
      "cell_type": "markdown",
      "metadata": {
        "id": "OoKL_B62cJM3"
      },
      "source": [
        "### Exercise 5: Vowel Filter Without Loops (Nearly Impossible)\n",
        "\n",
        "Create a program that filters a list of 7 strings to include only those that start with a vowel. **Do not use loops.** Instead, use individual conditional statements and manual indexing.\n",
        "\n",
        "1. **Create a List:** Write code to create a list with 7 strings of your choice.\n",
        "2. **Filter the List:** For each string in the list, check if its first character is a vowel (a, e, i, o, or u).\n",
        "   - *Hint:* To access the first character of a string, use `string[0]`.\n",
        "   - For each string that starts with a vowel, add it to a new list manually.\n",
        "3. **Print the New List:** Display the list of strings that begin with a vowel.\n"
      ]
    },
    {
      "cell_type": "code",
      "execution_count": 177,
      "metadata": {
        "colab": {
          "base_uri": "https://localhost:8080/"
        },
        "id": "UiCJG_81cJM4",
        "outputId": "e2a1362b-0c9d-477d-80c8-5512436268b2"
      },
      "outputs": [
        {
          "output_type": "stream",
          "name": "stdout",
          "text": [
            "l\n"
          ]
        }
      ],
      "source": [
        "# Exercise 5, Step 1: Create a list with 7 strings\n",
        "# Your code here\n",
        "strings = ['this', 'is', 'a', 'list', 'of', 'seven', 'strings']\n"
      ]
    },
    {
      "cell_type": "code",
      "execution_count": 206,
      "metadata": {
        "colab": {
          "base_uri": "https://localhost:8080/"
        },
        "id": "wzSqhSkIcJM4",
        "outputId": "6ee63a4a-291e-4019-8c19-f3de28110155"
      },
      "outputs": [
        {
          "output_type": "stream",
          "name": "stdout",
          "text": [
            "no vowels found\n"
          ]
        }
      ],
      "source": [
        "# Exercise 5, Step 2: Filter the list to include only strings that start with a vowel\n",
        "# Your code here\n",
        "\n",
        "new_strings = [ ]\n",
        "\n",
        "if strings[0][0] in {'a', 'e', 'i', 'o', 'u'}:\n",
        "  new_strings.append(strings[0])\n",
        "if strings[1][0] in {'a', 'e', 'i', 'o', 'u'}:\n",
        "  new_strings.append(strings[1])\n",
        "if strings[2][0] in {'a', 'e', 'i', 'o', 'u'}:\n",
        "  new_strings.append(strings[2])\n",
        "if strings[3][0] in {'a', 'e', 'i', 'o', 'u'}:\n",
        "  new_strings.append(strings[3])\n",
        "if strings[4][0] in {'a', 'e', 'i', 'o', 'u'}:\n",
        "  new_strings.append(strings[4])\n",
        "if strings[5][0] in {'a', 'e', 'i', 'o', 'u'}:\n",
        "  new_strings.append(strings[5])\n",
        "if strings[6][0] in {'a', 'e', 'i', 'o', 'u'}:\n",
        "  new_strings.append(strings[6])\n",
        "else:\n",
        "  print('no vowels found')\n",
        "\n"
      ]
    },
    {
      "cell_type": "code",
      "execution_count": 208,
      "metadata": {
        "colab": {
          "base_uri": "https://localhost:8080/"
        },
        "id": "iagcJUFJcJM4",
        "outputId": "9e844f2a-79e2-4f1c-d874-7b89f02e82f8"
      },
      "outputs": [
        {
          "output_type": "stream",
          "name": "stdout",
          "text": [
            "['is', 'a', 'of']\n"
          ]
        }
      ],
      "source": [
        "# Exercise 5, Step 3: Print the new list of strings that start with a vowel\n",
        "# Your code here\n",
        "\n",
        "print(new_strings)"
      ]
    },
    {
      "cell_type": "markdown",
      "metadata": {
        "id": "Xn8M9kpRcJM4"
      },
      "source": [
        "### Submission Guidelines\n",
        "\n",
        "- Submit your work as a single Python file (`.py`) or a Jupyter Notebook (`.ipynb`).\n",
        "- Clearly label each exercise and include comments to explain your logic.\n",
        "- Focus on completing Exercises 1–3; Exercises 4 and 5 are stretch challenges.\n",
        "- Do not use loops or built-in aggregate functions in Exercises 4 and 5.\n",
        "\n",
        "Good luck, and have fun practicing your list and conditional skills!"
      ]
    },
    {
      "cell_type": "code",
      "source": [],
      "metadata": {
        "id": "ybhtiRoW2LkD"
      },
      "execution_count": 198,
      "outputs": []
    }
  ],
  "metadata": {
    "kernelspec": {
      "display_name": "Python 3",
      "language": "python",
      "name": "python3"
    },
    "language_info": {
      "name": "python",
      "version": "3.x"
    },
    "colab": {
      "provenance": []
    }
  },
  "nbformat": 4,
  "nbformat_minor": 0
}